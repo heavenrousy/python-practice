{
 "cells": [
  {
   "cell_type": "markdown",
   "metadata": {},
   "source": [
    "# Контекстный менеджер\n",
    "**Менеджер контекста** (context manager) — это некий объект, реализующий одноимённый протокол."
   ]
  },
  {
   "cell_type": "markdown",
   "metadata": {},
   "source": [
    "## Менеджер контекста для подключения к базе данных"
   ]
  },
  {
   "cell_type": "code",
   "execution_count": 19,
   "metadata": {},
   "outputs": [
    {
     "name": "stdout",
     "output_type": "stream",
     "text": [
      "Error during database operation \"database is locked\"\n"
     ]
    }
   ],
   "source": [
    "from contextlib import contextmanager\n",
    "import sqlite3\n",
    "from typing import Generator\n",
    "\n",
    "\n",
    "@contextmanager\n",
    "def db_connection(db_path: str) -> Generator[sqlite3.Connection, None, None]:\n",
    "    '''\n",
    "    Context manager for safe database connection.\n",
    "    '''\n",
    "    conn = None\n",
    "    try:\n",
    "        conn = sqlite3.connect(db_path)\n",
    "        yield conn\n",
    "        conn.commit()\n",
    "    except sqlite3.Error:\n",
    "        if conn:\n",
    "            conn.rollback()\n",
    "        raise\n",
    "    finally:\n",
    "        if conn:\n",
    "            conn.close()\n",
    "\n",
    "\n",
    "with sqlite3.connect('test.db') as tmp_conn:\n",
    "    tmp_conn.execute('CREATE TABLE IF NOT EXISTS users (id INTEGER, name TEXT)')\n",
    "\n",
    "\n",
    "try:\n",
    "    with db_connection('test.db') as conn:\n",
    "        cursor = conn.cursor()\n",
    "        cursor.execute('INSERT INTO users VALUES (1, \"Алиса\")')\n",
    "        # raise sqlite3.OperationalError(\"Искусственная ошибка!\")\n",
    "except Exception as e:\n",
    "    print(f'Error during database operation \"{e}\"')\n",
    "else:\n",
    "    print('Operation completed successfully!')"
   ]
  },
  {
   "cell_type": "markdown",
   "metadata": {},
   "source": [
    "## Менеджер контекста для операций с файлом"
   ]
  },
  {
   "cell_type": "code",
   "execution_count": 2,
   "metadata": {},
   "outputs": [],
   "source": [
    "from contextlib import contextmanager\n",
    "from typing import IO\n",
    "from typing import Generator\n",
    "\n",
    "\n",
    "@contextmanager\n",
    "def open_file(path: str, mode: str) -> Generator[IO, None, None]:\n",
    "    file = None\n",
    "    try:\n",
    "        file = open(path, mode)\n",
    "        yield file\n",
    "    finally:\n",
    "        if file:\n",
    "            file.close()\n",
    "\n",
    "\n",
    "\n",
    "with open_file('test.txt', 'w') as file:\n",
    "    file.write('Hello, Context Manager!')"
   ]
  },
  {
   "cell_type": "markdown",
   "metadata": {},
   "source": [
    "## Асинхронный менеджер контекста"
   ]
  },
  {
   "cell_type": "code",
   "execution_count": 1,
   "metadata": {},
   "outputs": [
    {
     "data": {
      "text/markdown": [
       "## 🌍 Weather in Paris: Солнечно +25°C ↓11km/h 32%"
      ],
      "text/plain": [
       "<IPython.core.display.Markdown object>"
      ]
     },
     "metadata": {},
     "output_type": "display_data"
    }
   ],
   "source": [
    "import aiohttp\n",
    "from IPython.display import Markdown\n",
    "\n",
    "\n",
    "class AsyncWeatherFetcher:\n",
    "    '''\n",
    "    Asynchronous context manager for getting weather via wttr.in\n",
    "    '''\n",
    "    \n",
    "    def __init__(self, city: str = 'Пермь', format: str = '%C+%t+%w'):\n",
    "        self.city = city\n",
    "        self.format = format\n",
    "        self.session = None\n",
    "        self.response = None\n",
    "\n",
    "    async def __aenter__(self):\n",
    "        self.session = aiohttp.ClientSession()\n",
    "        url = f'https://wttr.in/{self.city}?format={self.format}&lang=ru'\n",
    "        self.response = await self.session.get(url)\n",
    "        return self\n",
    "\n",
    "    async def __aexit__(self, exc_type, exc, tb):\n",
    "        if self.response:\n",
    "            self.response.close()\n",
    "        if self.session:\n",
    "            await self.session.close()\n",
    "        if exc_type:\n",
    "            print(f'⚠️ Error: {exc}')\n",
    "\n",
    "    async def get_weather(self) -> str:\n",
    "        '''\n",
    "        Returns a formatted string with the weather\n",
    "        '''\n",
    "        if not self.response:\n",
    "            raise RuntimeError('Log in to the context manager!')\n",
    "        return await self.response.text()\n",
    "\n",
    "\n",
    "async def main():\n",
    "    async with AsyncWeatherFetcher('Paris', '%C+%t+%w+%h') as fetcher:\n",
    "        weather = await fetcher.get_weather()\n",
    "        display(Markdown(f'## 🌍 Weather in Paris: {weather}'))\n",
    "\n",
    "\n",
    "await main()"
   ]
  },
  {
   "cell_type": "code",
   "execution_count": 5,
   "metadata": {},
   "outputs": [
    {
     "name": "stdout",
     "output_type": "stream",
     "text": [
      "🔹 Opening session for https://api.example.com\n",
      "❌ Session error: /data\n",
      "🔹 Session has been closed\n"
     ]
    },
    {
     "ename": "InvalidUrlClientError",
     "evalue": "/data",
     "output_type": "error",
     "traceback": [
      "\u001b[31m---------------------------------------------------------------------------\u001b[39m",
      "\u001b[31mInvalidUrlClientError\u001b[39m                     Traceback (most recent call last)",
      "\u001b[36mCell\u001b[39m\u001b[36m \u001b[39m\u001b[32mIn[5]\u001b[39m\u001b[32m, line 32\u001b[39m\n\u001b[32m     26\u001b[39m             \u001b[38;5;28;01mreturn\u001b[39;00m \u001b[38;5;28;01mawait\u001b[39;00m response.json()\n\u001b[32m     29\u001b[39m \u001b[38;5;66;03m# for .py\u001b[39;00m\n\u001b[32m     30\u001b[39m \u001b[38;5;66;03m# asyncio.run(fetch_data())\u001b[39;00m\n\u001b[32m     31\u001b[39m \u001b[38;5;66;03m# for .ipynb\u001b[39;00m\n\u001b[32m---> \u001b[39m\u001b[32m32\u001b[39m \u001b[38;5;28;01mawait\u001b[39;00m fetch_data()\n",
      "\u001b[36mCell\u001b[39m\u001b[36m \u001b[39m\u001b[32mIn[5]\u001b[39m\u001b[32m, line 25\u001b[39m, in \u001b[36mfetch_data\u001b[39m\u001b[34m()\u001b[39m\n\u001b[32m     23\u001b[39m \u001b[38;5;28;01masync\u001b[39;00m \u001b[38;5;28;01mdef\u001b[39;00m\u001b[38;5;250m \u001b[39m\u001b[34mfetch_data\u001b[39m():\n\u001b[32m     24\u001b[39m     \u001b[38;5;28;01masync\u001b[39;00m \u001b[38;5;28;01mwith\u001b[39;00m async_http_client(\u001b[33m'\u001b[39m\u001b[33mhttps://api.example.com\u001b[39m\u001b[33m'\u001b[39m) \u001b[38;5;28;01mas\u001b[39;00m client:\n\u001b[32m---> \u001b[39m\u001b[32m25\u001b[39m         \u001b[38;5;28;01masync\u001b[39;00m \u001b[38;5;28;01mwith\u001b[39;00m client.get(\u001b[33m'\u001b[39m\u001b[33m/data\u001b[39m\u001b[33m'\u001b[39m) \u001b[38;5;28;01mas\u001b[39;00m response:\n\u001b[32m     26\u001b[39m             \u001b[38;5;28;01mreturn\u001b[39;00m \u001b[38;5;28;01mawait\u001b[39;00m response.json()\n",
      "\u001b[36mFile \u001b[39m\u001b[32mc:\\Users\\heavenrose\\Desktop\\python-practice\\venv\\Lib\\site-packages\\aiohttp\\client.py:1482\u001b[39m, in \u001b[36m_BaseRequestContextManager.__aenter__\u001b[39m\u001b[34m(self)\u001b[39m\n\u001b[32m   1481\u001b[39m \u001b[38;5;28;01masync\u001b[39;00m \u001b[38;5;28;01mdef\u001b[39;00m\u001b[38;5;250m \u001b[39m\u001b[34m__aenter__\u001b[39m(\u001b[38;5;28mself\u001b[39m) -> _RetType:\n\u001b[32m-> \u001b[39m\u001b[32m1482\u001b[39m     \u001b[38;5;28mself\u001b[39m._resp: _RetType = \u001b[38;5;28;01mawait\u001b[39;00m \u001b[38;5;28mself\u001b[39m._coro\n\u001b[32m   1483\u001b[39m     \u001b[38;5;28;01mreturn\u001b[39;00m \u001b[38;5;28;01mawait\u001b[39;00m \u001b[38;5;28mself\u001b[39m._resp.\u001b[34m__aenter__\u001b[39m()\n",
      "\u001b[36mFile \u001b[39m\u001b[32mc:\\Users\\heavenrose\\Desktop\\python-practice\\venv\\Lib\\site-packages\\aiohttp\\client.py:637\u001b[39m, in \u001b[36mClientSession._request\u001b[39m\u001b[34m(self, method, str_or_url, params, data, json, cookies, headers, skip_auto_headers, auth, allow_redirects, max_redirects, compress, chunked, expect100, raise_for_status, read_until_eof, proxy, proxy_auth, timeout, verify_ssl, fingerprint, ssl_context, ssl, server_hostname, proxy_headers, trace_request_ctx, read_bufsize, auto_decompress, max_line_size, max_field_size, middlewares)\u001b[39m\n\u001b[32m    629\u001b[39m \u001b[38;5;28;01mif\u001b[39;00m \u001b[38;5;129;01mnot\u001b[39;00m url.raw_host:\n\u001b[32m    630\u001b[39m     \u001b[38;5;66;03m# NOTE: Bail early, otherwise, causes `InvalidURL` through\u001b[39;00m\n\u001b[32m    631\u001b[39m     \u001b[38;5;66;03m# NOTE: `self._request_class()` below.\u001b[39;00m\n\u001b[32m    632\u001b[39m     err_exc_cls = (\n\u001b[32m    633\u001b[39m         InvalidUrlRedirectClientError\n\u001b[32m    634\u001b[39m         \u001b[38;5;28;01mif\u001b[39;00m redirects\n\u001b[32m    635\u001b[39m         \u001b[38;5;28;01melse\u001b[39;00m InvalidUrlClientError\n\u001b[32m    636\u001b[39m     )\n\u001b[32m--> \u001b[39m\u001b[32m637\u001b[39m     \u001b[38;5;28;01mraise\u001b[39;00m err_exc_cls(url)\n\u001b[32m    638\u001b[39m \u001b[38;5;66;03m# If `auth` was passed for an already authenticated URL,\u001b[39;00m\n\u001b[32m    639\u001b[39m \u001b[38;5;66;03m# disallow only if this is the initial URL; this is to avoid issues\u001b[39;00m\n\u001b[32m    640\u001b[39m \u001b[38;5;66;03m# with sketchy redirects that are not the caller's responsibility\u001b[39;00m\n\u001b[32m    641\u001b[39m \u001b[38;5;28;01mif\u001b[39;00m \u001b[38;5;129;01mnot\u001b[39;00m history \u001b[38;5;129;01mand\u001b[39;00m (auth \u001b[38;5;129;01mand\u001b[39;00m auth_from_url):\n",
      "\u001b[31mInvalidUrlClientError\u001b[39m: /data"
     ]
    }
   ],
   "source": [
    "from contextlib import asynccontextmanager\n",
    "import aiohttp\n",
    "\n",
    "\n",
    "@asynccontextmanager\n",
    "async def async_http_client(url: str):\n",
    "    '''\n",
    "    Asynchronous context manager for HTTP sessions.\n",
    "    '''\n",
    "    session = aiohttp.ClientSession()\n",
    "    try:\n",
    "        print(f'🔹 Opening session for {url}')\n",
    "        yield session\n",
    "        print('🔹 Session finished successfully')\n",
    "    except Exception as e:\n",
    "        print(f'❌ Session error: {e}')\n",
    "        raise\n",
    "    finally:\n",
    "        await session.close()\n",
    "        print('🔹 Session has been closed')\n",
    "\n",
    "\n",
    "async def fetch_data():\n",
    "    async with async_http_client('https://api.example.com') as client:\n",
    "        async with client.get('/data') as response:\n",
    "            return await response.json()\n",
    "\n",
    "\n",
    "# for .py\n",
    "# asyncio.run(fetch_data())\n",
    "# for .ipynb\n",
    "await fetch_data()"
   ]
  }
 ],
 "metadata": {
  "language_info": {
   "name": "python"
  }
 },
 "nbformat": 4,
 "nbformat_minor": 2
}
