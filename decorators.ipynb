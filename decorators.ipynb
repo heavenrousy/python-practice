{
 "cells": [
  {
   "cell_type": "markdown",
   "metadata": {},
   "source": [
    "# Декораторы\n",
    "**Декоратор** - паттерн, который позволяет расширить функцию без изменений ее исходного кода.\n",
    "\n",
    "Он бывает:\n",
    "1) сихнронным или асинхронным\n",
    "2) с параметрами или без\n",
    "3) с кешированием или без\n",
    "\n",
    "**Общий принцип**: func = decorator(func)\n",
    "\n",
    "**Паттерны**:  \n",
    "func = decorator(func)  \n",
    "func = decorator(params)(func)  \n",
    "func = decorator(func(params))"
   ]
  },
  {
   "cell_type": "markdown",
   "metadata": {},
   "source": [
    "## Синхронный и асинхронный декораторы"
   ]
  },
  {
   "cell_type": "markdown",
   "metadata": {},
   "source": [
    "### Синхронный декоратор"
   ]
  },
  {
   "cell_type": "code",
   "execution_count": 57,
   "metadata": {},
   "outputs": [
    {
     "name": "stdout",
     "output_type": "stream",
     "text": [
      "Attempt 1/3 failed. Error: \"Random error during calculation!\"\n",
      "Attempt 2/3 failed. Error: \"Random error during calculation!\"\n",
      "27\n"
     ]
    }
   ],
   "source": [
    "from typing import Callable, Any\n",
    "from functools import wraps\n",
    "from time import sleep\n",
    "from random import random\n",
    "\n",
    "\n",
    "def retry(tries: int = 3, delay: float = 1.0) -> Callable:\n",
    "    '''\n",
    "    Decorator for re-executing a function in case of an error.\n",
    "    '''\n",
    "    def decorator(func: Callable) -> Callable:\n",
    "        @wraps(func)\n",
    "        def wrapped(*args: Any, **kwargs: Any):\n",
    "            last_exception = None\n",
    "            for attempt in range(tries):\n",
    "                try:\n",
    "                    return func(*args, **kwargs)\n",
    "                except Exception as e:\n",
    "                    last_exception = e\n",
    "                    print(f'Attempt {attempt + 1}/{tries} failed. Error: \"{e}\"')\n",
    "                    if attempt < tries - 1:\n",
    "                        sleep(delay)\n",
    "            raise last_exception\n",
    "        return wrapped\n",
    "    return decorator\n",
    "\n",
    "\n",
    "@retry()\n",
    "def cube(number: int) -> int:\n",
    "    '''\n",
    "    Returns the number powered by three.\n",
    "    '''\n",
    "    sleep(2)\n",
    "    if random() < 0.5:\n",
    "        raise ValueError('Random error during calculation!')\n",
    "    return number ** 3\n",
    "\n",
    "\n",
    "def main():\n",
    "    result = cube(3)\n",
    "    print(result)\n",
    "\n",
    "\n",
    "if __name__ == '__main__':\n",
    "    main()"
   ]
  },
  {
   "cell_type": "markdown",
   "metadata": {},
   "source": [
    "### Асинхронный декоратор"
   ]
  },
  {
   "cell_type": "code",
   "execution_count": 59,
   "metadata": {},
   "outputs": [
    {
     "name": "stdout",
     "output_type": "stream",
     "text": [
      "Starting \"cube\" with args(3,) and kwargs{}...\n",
      "Result: 27\n"
     ]
    }
   ],
   "source": [
    "import asyncio\n",
    "from typing import Callable, Coroutine, Any\n",
    "from functools import wraps\n",
    "\n",
    "\n",
    "def log(coroutine: Coroutine) -> Callable:\n",
    "    '''\n",
    "    Decorator for logging an intermediate result.\n",
    "    '''\n",
    "    @wraps(coroutine)\n",
    "    async def wrapper(*args: Any, **kwargs: Any):\n",
    "        print(f'Starting \"{coroutine.__name__}\" with args{args} and kwargs{kwargs}...')\n",
    "        result = await coroutine(*args, **kwargs)\n",
    "        print(f'Result: {result}')\n",
    "        return result\n",
    "    return wrapper\n",
    "\n",
    "\n",
    "@log\n",
    "async def cube(number: int) -> int:\n",
    "    '''\n",
    "    Returns the number powered by three.\n",
    "    '''\n",
    "    await asyncio.sleep(2)\n",
    "    return number * number * number\n",
    "\n",
    "\n",
    "async def main():\n",
    "    await cube(3)\n",
    "    \n",
    "\n",
    "# for .py\n",
    "# asyncio.run(main=main())\n",
    "# for .ipynb\n",
    "await main()"
   ]
  },
  {
   "cell_type": "markdown",
   "metadata": {},
   "source": [
    "### Кешируемый декоратор"
   ]
  },
  {
   "cell_type": "code",
   "execution_count": 2,
   "metadata": {},
   "outputs": [
    {
     "data": {
      "text/plain": [
       "True"
      ]
     },
     "execution_count": 2,
     "metadata": {},
     "output_type": "execute_result"
    }
   ],
   "source": [
    "from functools import lru_cache\n",
    "import time\n",
    "\n",
    "\n",
    "@lru_cache\n",
    "def calculations():\n",
    "    time.sleep(3)\n",
    "    return True\n",
    "\n",
    "\n",
    "calculations()\n",
    "calculations()\n",
    "calculations()"
   ]
  }
 ],
 "metadata": {
  "language_info": {
   "name": "python"
  }
 },
 "nbformat": 4,
 "nbformat_minor": 2
}
